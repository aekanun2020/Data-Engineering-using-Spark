{
 "cells": [
  {
   "cell_type": "code",
   "execution_count": 1,
   "metadata": {
    "collapsed": true
   },
   "outputs": [],
   "source": [
    "! hdfs dfs -mkdir -p /user/cloudera/input"
   ]
  },
  {
   "cell_type": "code",
   "execution_count": 2,
   "metadata": {
    "collapsed": false
   },
   "outputs": [
    {
     "name": "stdout",
     "output_type": "stream",
     "text": [
      "--2020-07-18 01:50:04--  https://s3.amazonaws.com/imcbucket/data/flights/2008.csv\n",
      "Resolving s3.amazonaws.com... 52.217.40.38\n",
      "Connecting to s3.amazonaws.com|52.217.40.38|:443... connected.\n",
      "HTTP request sent, awaiting response... 200 OK\n",
      "Length: 689413344 (657M) [binary/octet-stream]\n",
      "Saving to: “2008.csv.2”\n",
      "\n",
      "100%[======================================>] 689,413,344 63.2M/s   in 10s     \n",
      "\n",
      "2020-07-18 01:50:14 (65.1 MB/s) - “2008.csv.2” saved [689413344/689413344]\n",
      "\n"
     ]
    }
   ],
   "source": [
    "! wget  https://s3.amazonaws.com/imcbucket/data/flights/2008.csv"
   ]
  },
  {
   "cell_type": "code",
   "execution_count": 3,
   "metadata": {
    "collapsed": false
   },
   "outputs": [
    {
     "name": "stdout",
     "output_type": "stream",
     "text": [
      "Deleted /user/cloudera/input/2008.csv\r\n"
     ]
    }
   ],
   "source": [
    "! hdfs dfs -rm -f /user/cloudera/input/2008.csv"
   ]
  },
  {
   "cell_type": "code",
   "execution_count": 4,
   "metadata": {
    "collapsed": true
   },
   "outputs": [],
   "source": [
    "! hadoop fs -put 2008.csv /user/cloudera/input"
   ]
  },
  {
   "cell_type": "code",
   "execution_count": null,
   "metadata": {
    "collapsed": true
   },
   "outputs": [],
   "source": []
  },
  {
   "cell_type": "code",
   "execution_count": 5,
   "metadata": {
    "collapsed": false
   },
   "outputs": [
    {
     "name": "stdout",
     "output_type": "stream",
     "text": [
      "Year,Month,DayofMonth,DayOfWeek,DepTime,CRSDepTime,ArrTime,CRSArrTime,UniqueCarrier,FlightNum,TailNum,ActualElapsedTime,CRSElapsedTime,AirTime,ArrDelay,DepDelay,Origin,Dest,Distance,TaxiIn,TaxiOut,Cancelled,CancellationCode,Diverted,CarrierDelay,WeatherDelay,NASDelay,SecurityDelay,LateAircraftDelay\r\n",
      "2008,1,3,4,2003,1955,2211,2225,WN,335,N712SW,128,150,116,-14,8,IAD,TPA,810,4,8,0,,0,NA,NA,NA,NA,NA\r\n",
      "2008,1,3,4,754,735,1002,1000,WN,3231,N772SW,128,145,113,2,19,IAD,TPA,810,5,10,0,,0,NA,NA,NA,NA,NA\r\n"
     ]
    }
   ],
   "source": [
    "! head -3 ./2008.csv"
   ]
  },
  {
   "cell_type": "code",
   "execution_count": null,
   "metadata": {
    "collapsed": true
   },
   "outputs": [],
   "source": []
  },
  {
   "cell_type": "code",
   "execution_count": 6,
   "metadata": {
    "collapsed": true
   },
   "outputs": [],
   "source": [
    "airline_rdd =  sc.textFile(\"hdfs:///user/cloudera/input/2008.csv\")"
   ]
  },
  {
   "cell_type": "code",
   "execution_count": 7,
   "metadata": {
    "collapsed": false
   },
   "outputs": [
    {
     "data": {
      "text/plain": [
       "[u'Year,Month,DayofMonth,DayOfWeek,DepTime,CRSDepTime,ArrTime,CRSArrTime,UniqueCarrier,FlightNum,TailNum,ActualElapsedTime,CRSElapsedTime,AirTime,ArrDelay,DepDelay,Origin,Dest,Distance,TaxiIn,TaxiOut,Cancelled,CancellationCode,Diverted,CarrierDelay,WeatherDelay,NASDelay,SecurityDelay,LateAircraftDelay',\n",
       " u'2008,1,3,4,2003,1955,2211,2225,WN,335,N712SW,128,150,116,-14,8,IAD,TPA,810,4,8,0,,0,NA,NA,NA,NA,NA']"
      ]
     },
     "execution_count": 7,
     "metadata": {},
     "output_type": "execute_result"
    }
   ],
   "source": [
    "airline_rdd.take(2)"
   ]
  },
  {
   "cell_type": "code",
   "execution_count": 8,
   "metadata": {
    "collapsed": true
   },
   "outputs": [],
   "source": [
    "header_text = airline_rdd.first()"
   ]
  },
  {
   "cell_type": "code",
   "execution_count": 9,
   "metadata": {
    "collapsed": true
   },
   "outputs": [],
   "source": [
    "airline_noheader_rdd = airline_rdd.filter(lambda row: row != header_text)"
   ]
  },
  {
   "cell_type": "code",
   "execution_count": 10,
   "metadata": {
    "collapsed": false
   },
   "outputs": [
    {
     "data": {
      "text/plain": [
       "[u'2008,1,3,4,2003,1955,2211,2225,WN,335,N712SW,128,150,116,-14,8,IAD,TPA,810,4,8,0,,0,NA,NA,NA,NA,NA',\n",
       " u'2008,1,3,4,754,735,1002,1000,WN,3231,N772SW,128,145,113,2,19,IAD,TPA,810,5,10,0,,0,NA,NA,NA,NA,NA',\n",
       " u'2008,1,3,4,628,620,804,750,WN,448,N428WN,96,90,76,14,8,IND,BWI,515,3,17,0,,0,NA,NA,NA,NA,NA']"
      ]
     },
     "execution_count": 10,
     "metadata": {},
     "output_type": "execute_result"
    }
   ],
   "source": [
    "airline_noheader_rdd.take(3)"
   ]
  },
  {
   "cell_type": "code",
   "execution_count": 11,
   "metadata": {
    "collapsed": true
   },
   "outputs": [],
   "source": [
    "fieldname_list = header_text.split(',')\n",
    "def make_row(row):\n",
    "    fieldvalues_list = row.split(',')\n",
    "    d = dict(zip(fieldname_list,fieldvalues_list))\n",
    "    return d"
   ]
  },
  {
   "cell_type": "code",
   "execution_count": 12,
   "metadata": {
    "collapsed": true
   },
   "outputs": [],
   "source": [
    "airline_rows_rdd = airline_noheader_rdd.map(make_row)"
   ]
  },
  {
   "cell_type": "code",
   "execution_count": 13,
   "metadata": {
    "collapsed": false
   },
   "outputs": [
    {
     "data": {
      "text/plain": [
       "[{u'ActualElapsedTime': u'128',\n",
       "  u'AirTime': u'116',\n",
       "  u'ArrDelay': u'-14',\n",
       "  u'ArrTime': u'2211',\n",
       "  u'CRSArrTime': u'2225',\n",
       "  u'CRSDepTime': u'1955',\n",
       "  u'CRSElapsedTime': u'150',\n",
       "  u'CancellationCode': u'',\n",
       "  u'Cancelled': u'0',\n",
       "  u'CarrierDelay': u'NA',\n",
       "  u'DayOfWeek': u'4',\n",
       "  u'DayofMonth': u'3',\n",
       "  u'DepDelay': u'8',\n",
       "  u'DepTime': u'2003',\n",
       "  u'Dest': u'TPA',\n",
       "  u'Distance': u'810',\n",
       "  u'Diverted': u'0',\n",
       "  u'FlightNum': u'335',\n",
       "  u'LateAircraftDelay': u'NA',\n",
       "  u'Month': u'1',\n",
       "  u'NASDelay': u'NA',\n",
       "  u'Origin': u'IAD',\n",
       "  u'SecurityDelay': u'NA',\n",
       "  u'TailNum': u'N712SW',\n",
       "  u'TaxiIn': u'4',\n",
       "  u'TaxiOut': u'8',\n",
       "  u'UniqueCarrier': u'WN',\n",
       "  u'WeatherDelay': u'NA',\n",
       "  u'Year': u'2008'},\n",
       " {u'ActualElapsedTime': u'128',\n",
       "  u'AirTime': u'113',\n",
       "  u'ArrDelay': u'2',\n",
       "  u'ArrTime': u'1002',\n",
       "  u'CRSArrTime': u'1000',\n",
       "  u'CRSDepTime': u'735',\n",
       "  u'CRSElapsedTime': u'145',\n",
       "  u'CancellationCode': u'',\n",
       "  u'Cancelled': u'0',\n",
       "  u'CarrierDelay': u'NA',\n",
       "  u'DayOfWeek': u'4',\n",
       "  u'DayofMonth': u'3',\n",
       "  u'DepDelay': u'19',\n",
       "  u'DepTime': u'754',\n",
       "  u'Dest': u'TPA',\n",
       "  u'Distance': u'810',\n",
       "  u'Diverted': u'0',\n",
       "  u'FlightNum': u'3231',\n",
       "  u'LateAircraftDelay': u'NA',\n",
       "  u'Month': u'1',\n",
       "  u'NASDelay': u'NA',\n",
       "  u'Origin': u'IAD',\n",
       "  u'SecurityDelay': u'NA',\n",
       "  u'TailNum': u'N772SW',\n",
       "  u'TaxiIn': u'5',\n",
       "  u'TaxiOut': u'10',\n",
       "  u'UniqueCarrier': u'WN',\n",
       "  u'WeatherDelay': u'NA',\n",
       "  u'Year': u'2008'},\n",
       " {u'ActualElapsedTime': u'96',\n",
       "  u'AirTime': u'76',\n",
       "  u'ArrDelay': u'14',\n",
       "  u'ArrTime': u'804',\n",
       "  u'CRSArrTime': u'750',\n",
       "  u'CRSDepTime': u'620',\n",
       "  u'CRSElapsedTime': u'90',\n",
       "  u'CancellationCode': u'',\n",
       "  u'Cancelled': u'0',\n",
       "  u'CarrierDelay': u'NA',\n",
       "  u'DayOfWeek': u'4',\n",
       "  u'DayofMonth': u'3',\n",
       "  u'DepDelay': u'8',\n",
       "  u'DepTime': u'628',\n",
       "  u'Dest': u'BWI',\n",
       "  u'Distance': u'515',\n",
       "  u'Diverted': u'0',\n",
       "  u'FlightNum': u'448',\n",
       "  u'LateAircraftDelay': u'NA',\n",
       "  u'Month': u'1',\n",
       "  u'NASDelay': u'NA',\n",
       "  u'Origin': u'IND',\n",
       "  u'SecurityDelay': u'NA',\n",
       "  u'TailNum': u'N428WN',\n",
       "  u'TaxiIn': u'3',\n",
       "  u'TaxiOut': u'17',\n",
       "  u'UniqueCarrier': u'WN',\n",
       "  u'WeatherDelay': u'NA',\n",
       "  u'Year': u'2008'}]"
      ]
     },
     "execution_count": 13,
     "metadata": {},
     "output_type": "execute_result"
    }
   ],
   "source": [
    "airline_rows_rdd.take(3)"
   ]
  },
  {
   "cell_type": "code",
   "execution_count": 14,
   "metadata": {
    "collapsed": true
   },
   "outputs": [],
   "source": [
    "airline_rows_rdd_repartition = airline_rows_rdd.repartition(10)\n",
    "airline_rows_rdd_cached = airline_rows_rdd_repartition.cache()"
   ]
  },
  {
   "cell_type": "code",
   "execution_count": 15,
   "metadata": {
    "collapsed": false
   },
   "outputs": [],
   "source": [
    "! cp -rf /usr/lib/hive/conf/hive-site.xml /usr/lib/spark/conf/\n"
   ]
  },
  {
   "cell_type": "code",
   "execution_count": 16,
   "metadata": {
    "collapsed": false
   },
   "outputs": [
    {
     "name": "stderr",
     "output_type": "stream",
     "text": [
      "/usr/lib/spark/python/pyspark/sql/context.py:259: UserWarning: Using RDD of dict to inferSchema is deprecated. Use pyspark.sql.Row instead\n",
      "  warnings.warn(\"Using RDD of dict to inferSchema is deprecated. \"\n"
     ]
    }
   ],
   "source": [
    "airline_rows_df = airline_rows_rdd.toDF()"
   ]
  },
  {
   "cell_type": "code",
   "execution_count": 17,
   "metadata": {
    "collapsed": true
   },
   "outputs": [],
   "source": [
    "airline_rows_df.registerTempTable(\"airlines\")"
   ]
  },
  {
   "cell_type": "markdown",
   "metadata": {},
   "source": [
    "### Top 10 Best Airline (Lowest Delay)"
   ]
  },
  {
   "cell_type": "code",
   "execution_count": 18,
   "metadata": {
    "collapsed": true
   },
   "outputs": [],
   "source": [
    "results = sqlContext.sql(\"select avg(ArrDelay) AS delay,UniqueCarrier from airlines \\\n",
    "group by UniqueCarrier order by delay ASC limit 10\")"
   ]
  },
  {
   "cell_type": "code",
   "execution_count": 19,
   "metadata": {
    "collapsed": false
   },
   "outputs": [
    {
     "name": "stdout",
     "output_type": "stream",
     "text": [
      "+------------------+-------------+\n",
      "|             delay|UniqueCarrier|\n",
      "+------------------+-------------+\n",
      "|-2.888673890608875|           AQ|\n",
      "|1.2644089394236424|           HA|\n",
      "|2.8481100056939694|           US|\n",
      "| 4.111134703250211|           9E|\n",
      "| 4.804346362093581|           AS|\n",
      "|  5.17967817300539|           WN|\n",
      "| 6.108246666107523|           F9|\n",
      "| 6.598884736868734|           OO|\n",
      "| 7.368539129929383|           NW|\n",
      "| 7.855163154883384|           DL|\n",
      "+------------------+-------------+\n",
      "\n"
     ]
    }
   ],
   "source": [
    "results.show()"
   ]
  },
  {
   "cell_type": "markdown",
   "metadata": {},
   "source": [
    "### Top 10 Worst Airline (Highest Delay)"
   ]
  },
  {
   "cell_type": "code",
   "execution_count": 20,
   "metadata": {
    "collapsed": true
   },
   "outputs": [],
   "source": [
    "results = sqlContext.sql(\"select avg(ArrDelay) AS delay,UniqueCarrier from airlines \\\n",
    "group by UniqueCarrier order by delay DESC limit 10\")"
   ]
  },
  {
   "cell_type": "code",
   "execution_count": 21,
   "metadata": {
    "collapsed": false
   },
   "outputs": [
    {
     "name": "stdout",
     "output_type": "stream",
     "text": [
      "+------------------+-------------+\n",
      "|             delay|UniqueCarrier|\n",
      "+------------------+-------------+\n",
      "|12.607194035713981|           AA|\n",
      "|11.817467683998007|           OH|\n",
      "|11.775181433600808|           YV|\n",
      "|11.291322186680183|           UA|\n",
      "| 11.08418439051813|           B6|\n",
      "|  10.9790372802913|           CO|\n",
      "|10.635404800035221|           XE|\n",
      "|10.208002415713782|           EV|\n",
      "| 9.890667945776498|           MQ|\n",
      "|  9.09137538507922|           FL|\n",
      "+------------------+-------------+\n",
      "\n"
     ]
    }
   ],
   "source": [
    "results.show()"
   ]
  },
  {
   "cell_type": "markdown",
   "metadata": {
    "collapsed": true
   },
   "source": [
    "# Data Persistence with Hive Table"
   ]
  },
  {
   "cell_type": "code",
   "execution_count": 22,
   "metadata": {
    "collapsed": false
   },
   "outputs": [
    {
     "name": "stdout",
     "output_type": "stream",
     "text": [
      "Deleted /user/root/fight_result\n",
      "+------------------+-------------+\n",
      "|             delay|UniqueCarrier|\n",
      "+------------------+-------------+\n",
      "|12.607194035713981|           AA|\n",
      "|11.817467683998007|           OH|\n",
      "|11.775181433600808|           YV|\n",
      "|11.291322186680183|           UA|\n",
      "| 11.08418439051813|           B6|\n",
      "|  10.9790372802913|           CO|\n",
      "|10.635404800035221|           XE|\n",
      "|10.208002415713782|           EV|\n",
      "| 9.890667945776498|           MQ|\n",
      "|  9.09137538507922|           FL|\n",
      "+------------------+-------------+\n",
      "\n"
     ]
    },
    {
     "data": {
      "text/plain": [
       "4.3017518520355225"
      ]
     },
     "execution_count": 22,
     "metadata": {},
     "output_type": "execute_result"
    }
   ],
   "source": [
    "! hdfs dfs -rm -r /user/root/fight_result\n",
    "\n",
    "airline_rows_df.write.mode('overwrite').parquet('/user/root/fight_result')\n",
    "\n",
    "from pyspark import HiveContext\n",
    "\n",
    "hc = HiveContext(sc)\n",
    "\n",
    "hc.sql(\"\"\"\n",
    "DROP TABLE IF EXISTS flight_result\n",
    "\"\"\")\n",
    "\n",
    "hc.sql(\"\"\"\n",
    "create external table IF NOT EXISTS flight_result (\n",
    "ArrDelay string, UniqueCarrier string\n",
    ")\n",
    "STORED AS PARQUET\n",
    "location \"/user/root/fight_result\"\n",
    "\"\"\")\n",
    "\n",
    "from time import time\n",
    "\n",
    "t2 = time()\n",
    "\n",
    "hc.sql('select avg(ArrDelay) AS delay,UniqueCarrier from flight_result \\\n",
    "group by UniqueCarrier order by delay DESC limit 10').show()\n",
    "\n",
    "tt2 = time() - t2\n",
    "\n",
    "tt2\n"
   ]
  },
  {
   "cell_type": "code",
   "execution_count": null,
   "metadata": {
    "collapsed": true
   },
   "outputs": [],
   "source": []
  }
 ],
 "metadata": {
  "anaconda-cloud": {},
  "kernelspec": {
   "display_name": "Python [conda root]",
   "language": "python",
   "name": "conda-root-py"
  },
  "language_info": {
   "codemirror_mode": {
    "name": "ipython",
    "version": 2
   },
   "file_extension": ".py",
   "mimetype": "text/x-python",
   "name": "python",
   "nbconvert_exporter": "python",
   "pygments_lexer": "ipython2",
   "version": "2.7.12"
  }
 },
 "nbformat": 4,
 "nbformat_minor": 1
}
